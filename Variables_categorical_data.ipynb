{
 "cells": [
  {
   "cell_type": "markdown",
   "metadata": {},
   "source": [
    "# Categorical Data"
   ]
  },
  {
   "cell_type": "markdown",
   "metadata": {},
   "source": [
    "**01. Import data and library**"
   ]
  },
  {
   "cell_type": "code",
   "execution_count": 10,
   "metadata": {},
   "outputs": [],
   "source": [
    "import pandas as pd\n",
    "import numpy as np\n",
    "from matplotlib import pyplot as plt"
   ]
  },
  {
   "cell_type": "markdown",
   "metadata": {},
   "source": [
    "**02. Introduction**\n",
    "\n",
    "Depending on what we’re trying to understand from our data, we may need to rely on different statistics. For quantitative data, we can summarize central tendency using mean, median or mode and we can summarize spread using standard deviation, variance, or percentiles. However, when working with categorical data, we may not be able to use all the same summary statistics."
   ]
  },
  {
   "cell_type": "markdown",
   "metadata": {},
   "source": [
    "**03. Nominal Categories**\n",
    "- Depending on the data, some of the summary statistics we use for quantitative data can still be meaningful for categorical data. Let’s first consider a nominal categorical variable. A nominal categorical variable is a categorical variable with no intrinsic ordering to the categories.\n",
    "\n",
    "- We can do this in Python using the **.value_counts()** function. The .value_counts() function calculates the count of each value in a column and returns the result as a series. By default, .value_counts() orders categories in descending order by frequency, thus the top row in the output will be the mode.\n"
   ]
  },
  {
   "cell_type": "code",
   "execution_count": 3,
   "metadata": {},
   "outputs": [
    {
     "data": {
      "text/html": [
       "<div>\n",
       "<style scoped>\n",
       "    .dataframe tbody tr th:only-of-type {\n",
       "        vertical-align: middle;\n",
       "    }\n",
       "\n",
       "    .dataframe tbody tr th {\n",
       "        vertical-align: top;\n",
       "    }\n",
       "\n",
       "    .dataframe thead th {\n",
       "        text-align: right;\n",
       "    }\n",
       "</style>\n",
       "<table border=\"1\" class=\"dataframe\">\n",
       "  <thead>\n",
       "    <tr style=\"text-align: right;\">\n",
       "      <th></th>\n",
       "      <th>recordid</th>\n",
       "      <th>species</th>\n",
       "      <th>diameter</th>\n",
       "      <th>status</th>\n",
       "      <th>sidewalk_condition</th>\n",
       "    </tr>\n",
       "  </thead>\n",
       "  <tbody>\n",
       "    <tr>\n",
       "      <td>0</td>\n",
       "      <td>433600</td>\n",
       "      <td>QUPA</td>\n",
       "      <td>6</td>\n",
       "      <td>Good</td>\n",
       "      <td>Good</td>\n",
       "    </tr>\n",
       "    <tr>\n",
       "      <td>1</td>\n",
       "      <td>48050</td>\n",
       "      <td>GLTR</td>\n",
       "      <td>10</td>\n",
       "      <td>Excellent</td>\n",
       "      <td>Good</td>\n",
       "    </tr>\n",
       "    <tr>\n",
       "      <td>2</td>\n",
       "      <td>506340</td>\n",
       "      <td>QURU</td>\n",
       "      <td>21</td>\n",
       "      <td>Good</td>\n",
       "      <td>Good</td>\n",
       "    </tr>\n",
       "    <tr>\n",
       "      <td>3</td>\n",
       "      <td>348044</td>\n",
       "      <td>ACPL</td>\n",
       "      <td>15</td>\n",
       "      <td>Poor</td>\n",
       "      <td>Good</td>\n",
       "    </tr>\n",
       "    <tr>\n",
       "      <td>4</td>\n",
       "      <td>354765</td>\n",
       "      <td>ACPL</td>\n",
       "      <td>7</td>\n",
       "      <td>Good</td>\n",
       "      <td>NaN</td>\n",
       "    </tr>\n",
       "  </tbody>\n",
       "</table>\n",
       "</div>"
      ],
      "text/plain": [
       "   recordid species  diameter     status sidewalk_condition\n",
       "0    433600    QUPA         6       Good               Good\n",
       "1     48050    GLTR        10  Excellent               Good\n",
       "2    506340    QURU        21       Good               Good\n",
       "3    348044    ACPL        15       Poor               Good\n",
       "4    354765    ACPL         7       Good                NaN"
      ]
     },
     "execution_count": 3,
     "metadata": {},
     "output_type": "execute_result"
    }
   ],
   "source": [
    "ny_trees = pd.read_csv('new_york_tree_census_1996csv.csv')\n",
    "ny_trees.head()"
   ]
  },
  {
   "cell_type": "code",
   "execution_count": 4,
   "metadata": {},
   "outputs": [
    {
     "data": {
      "text/plain": [
       "recordid               int64\n",
       "species               object\n",
       "diameter               int64\n",
       "status                object\n",
       "sidewalk_condition    object\n",
       "dtype: object"
      ]
     },
     "execution_count": 4,
     "metadata": {},
     "output_type": "execute_result"
    }
   ],
   "source": [
    "ny_trees.dtypes"
   ]
  },
  {
   "cell_type": "code",
   "execution_count": 28,
   "metadata": {},
   "outputs": [
    {
     "name": "stdout",
     "output_type": "stream",
     "text": [
      "<class 'pandas.core.frame.DataFrame'>\n",
      "RangeIndex: 4999 entries, 0 to 4998\n",
      "Data columns (total 5 columns):\n",
      "recordid              4999 non-null int64\n",
      "species               4999 non-null object\n",
      "diameter              4999 non-null int64\n",
      "status                4999 non-null category\n",
      "sidewalk_condition    4788 non-null object\n",
      "dtypes: category(1), int64(2), object(2)\n",
      "memory usage: 161.6+ KB\n"
     ]
    }
   ],
   "source": [
    "ny_trees.info()"
   ]
  },
  {
   "cell_type": "code",
   "execution_count": 21,
   "metadata": {},
   "outputs": [
    {
     "data": {
      "text/plain": [
       "status\n",
       "Excellent          918\n",
       "Good              3265\n",
       "Fair                 6\n",
       "Poor               376\n",
       "Dead               134\n",
       "Planting Space     148\n",
       "Stump               58\n",
       "Shaft                2\n",
       "Unknown             92\n",
       "Name: recordid, dtype: int64"
      ]
     },
     "execution_count": 21,
     "metadata": {},
     "output_type": "execute_result"
    }
   ],
   "source": [
    "ny_trees.groupby('status').recordid.nunique()"
   ]
  },
  {
   "cell_type": "code",
   "execution_count": 49,
   "metadata": {
    "scrolled": true
   },
   "outputs": [
    {
     "data": {
      "text/plain": [
       "Good      4332\n",
       "Raised     456\n",
       "Name: sidewalk_condition, dtype: int64"
      ]
     },
     "execution_count": 49,
     "metadata": {},
     "output_type": "execute_result"
    }
   ],
   "source": [
    "# practice\n",
    "counts0 = ny_trees.sidewalk_condition.value_counts()\n",
    "counts0"
   ]
  },
  {
   "cell_type": "code",
   "execution_count": 52,
   "metadata": {},
   "outputs": [
    {
     "data": {
      "text/plain": [
       "ACPL    1034\n",
       "PLAC     811\n",
       "QUPA     363\n",
       "PYCA     317\n",
       "GLTR     314\n",
       "Name: species, dtype: int64"
      ]
     },
     "execution_count": 52,
     "metadata": {},
     "output_type": "execute_result"
    }
   ],
   "source": [
    "# count the number of trees species from dataset and print out the highest's three species \n",
    "# this statment will return a serries\n",
    "counts1 = ny_trees.species.value_counts()\n",
    "counts1.head()"
   ]
  },
  {
   "cell_type": "code",
   "execution_count": 12,
   "metadata": {},
   "outputs": [
    {
     "data": {
      "text/plain": [
       "'Good'"
      ]
     },
     "execution_count": 12,
     "metadata": {},
     "output_type": "execute_result"
    }
   ],
   "source": [
    "# order values by category \n",
    "correct_order = ['Excellent', 'Good', 'Fair', 'Poor', 'Dead', 'Planting Space', 'Stump', 'Shaft', 'Unknown']\n",
    "ny_trees['status'] = pd.Categorical(ny_trees['status'], correct_order, ordered = True)# save as ordered categorical variables \n",
    "median_index = np.median(ny_trees.status.cat.codes)# convert the categories to numbers \n",
    "median_category = correct_order[int(median_index)]\n",
    "median_category"
   ]
  },
  {
   "cell_type": "markdown",
   "metadata": {},
   "source": [
    "**Ordinal Categorical Variables - Central Tendency I**\n",
    "\n",
    "- While we can represent these categories with equally spaced numbers, there’s not equal spacing between categories. Some gaps between educational attainment levels represent up to four additional years of schooling (e.g. '1st-4th' to '5th-6th'), while others represent a single additional year of schooling (e.g. from '9th' to '10th').\n",
    "\n",
    "- When we use .cat.codes to translate these categories into integers, those integers have equal spacing. While translating categories to numbers is often necessary to store and use the order of the categories (for calculating a statistic like the median, which only relies on ordering, not spacing), we should not use those numbers to calculate statistics — such as the mean — for which the distance between values matters.\n",
    "\n",
    "- In practice, researchers sometimes (albeit, incorrectly) report means for ordinal categories. For example, a researcher might want to analyze survey responses to the question \"Rate your happiness on a scale from 1 to 5 where 1 means 'very unhappy' and 5 means 'very happy'\".\n",
    "\n",
    "- If that researcher calculates 'mean happiness score', they are assuming that the difference in happiness between a rating of 1 and 2 is the same as the difference in happiness for a rating of 3 and 4. In practice, this assumption is likely not true and should be acknowledged if reporting a mean of an ordinal categorical variable.\n"
   ]
  },
  {
   "cell_type": "markdown",
   "metadata": {},
   "source": [
    "**Ordinal Categories: Spread**\n",
    "\n",
    "- Many other statistics we might normally use for numerical data rely on the mean. Because of this, these statistics aren’t appropriate for ordinal data. Remember that the standard deviation and variance both depend on the mean, without a mean, we can’t have a reliable standard deviation or variance either!\n",
    "\n",
    "- Instead, we can rely on other summary statistics, like the proportion of the data within a range, or percentiles/quantiles. For example, consider the education variable from earlier. To calculate a range containing 80% of the data, we can use np.percentile():\n"
   ]
  },
  {
   "cell_type": "code",
   "execution_count": 40,
   "metadata": {},
   "outputs": [
    {
     "data": {
      "text/plain": [
       "'Planting Space'"
      ]
     },
     "execution_count": 40,
     "metadata": {},
     "output_type": "execute_result"
    }
   ],
   "source": [
    "# calculate the 95 percentile for status, use the ordered list \"correct_order \", to find the coresponding label \n",
    "percent = np.percentile(ny_trees.status.cat.codes, 95)\n",
    "p95_status = correct_order[int(percent)]\n",
    "p95_status"
   ]
  },
  {
   "cell_type": "markdown",
   "metadata": {},
   "source": [
    "**Table of Proportions**\n",
    "\n",
    "    -You’ve already seen that we can use the .value_counts() function to get a table of frequencies for a categorical variable. A table of frequencies is often the first approach a data scientist might use to summarize a categorical variable; however, it is sometimes useful to instead look at the proportion of values in each category.\n",
    "    \n",
    "    -we can calculate proportion by dividing the frequency by the number of observations in the data \n",
    "    -We can also calculate proportions using .value_counts() by setting the normalize parameter equal to True:"
   ]
  },
  {
   "cell_type": "code",
   "execution_count": 55,
   "metadata": {},
   "outputs": [
    {
     "data": {
      "text/plain": [
       "Good              0.653131\n",
       "Excellent         0.183637\n",
       "Poor              0.075215\n",
       "Planting Space    0.029606\n",
       "Dead              0.026805\n",
       "Unknown           0.018404\n",
       "Stump             0.011602\n",
       "Fair              0.001200\n",
       "Shaft             0.000400\n",
       "Name: status, dtype: float64"
      ]
     },
     "execution_count": 55,
     "metadata": {},
     "output_type": "execute_result"
    }
   ],
   "source": [
    "ny_trees.status.value_counts()/len(ny_trees.status)"
   ]
  },
  {
   "cell_type": "code",
   "execution_count": 54,
   "metadata": {},
   "outputs": [
    {
     "data": {
      "text/plain": [
       "Good              0.653131\n",
       "Excellent         0.183637\n",
       "Poor              0.075215\n",
       "Planting Space    0.029606\n",
       "Dead              0.026805\n",
       "Name: status, dtype: float64"
      ]
     },
     "execution_count": 54,
     "metadata": {},
     "output_type": "execute_result"
    }
   ],
   "source": [
    "ny_trees.status.value_counts(normalize = True).head()"
   ]
  },
  {
   "cell_type": "markdown",
   "metadata": {},
   "source": [
    "**Table of Proportions: Missing Data**\n",
    "\n",
    "- One thing to keep in mind when calculating the proportion of data in a particular category: how are you dealing with missing data? \n",
    "- You can set the dropna parameter in .value_counts() to determine how NaN values are handled in summaries of data. When set dropna parameter to True then Nan values are not displayed and retuns proportion of a specific category divided by all labels excluding Nan values from denominator , in contrast Nan value are displayed when dropna set it to False.\n",
    "- Note that if we don’t include the missing values in our denominator, we observe slightly larger proportions in each category (and no NaN category) in the above output. It is important to think about how you want to deal with missing data when summarizing a categorical variable and then interpret resulting values appropriately."
   ]
  },
  {
   "cell_type": "code",
   "execution_count": 67,
   "metadata": {},
   "outputs": [
    {
     "data": {
      "text/plain": [
       "Good      0.904762\n",
       "Raised    0.095238\n",
       "Name: sidewalk_condition, dtype: float64"
      ]
     },
     "execution_count": 67,
     "metadata": {},
     "output_type": "execute_result"
    }
   ],
   "source": [
    "# calculate the proportion for each category, the denominator for your proportions should be the number of non-missing values\n",
    "ny_trees.sidewalk_condition.value_counts(normalize = True, dropna = True)"
   ]
  },
  {
   "cell_type": "code",
   "execution_count": 68,
   "metadata": {},
   "outputs": [
    {
     "data": {
      "text/plain": [
       "Good      0.866573\n",
       "Raised    0.091218\n",
       "NaN       0.042208\n",
       "Name: sidewalk_condition, dtype: float64"
      ]
     },
     "execution_count": 68,
     "metadata": {},
     "output_type": "execute_result"
    }
   ],
   "source": [
    "# calculate the proportion for each category including missing values\n",
    "ny_trees.sidewalk_condition.value_counts(normalize = True, dropna = False)"
   ]
  },
  {
   "cell_type": "markdown",
   "metadata": {},
   "source": [
    "**Binary Categorical Variables**\n",
    "   - Binary categorical variables have only two categories. In Python, these variables are often coded as 0/1 or True/False. This makes it easy to calculate the frequency/proportion of these variables in a dataset. \n",
    "    \n",
    "   - In Python, the same behavior holds for columns coded as True/False because True gets coerced to 1 and False gets coerced to 0\n",
    "   -  we can calculate the proportion equal to 1 or True by taking the mean of the column. "
   ]
  },
  {
   "cell_type": "code",
   "execution_count": 85,
   "metadata": {},
   "outputs": [
    {
     "name": "stdout",
     "output_type": "stream",
     "text": [
      "0.8665733146629326\n"
     ]
    }
   ],
   "source": [
    "good = ny_trees.sidewalk_condition == 'Good'\n",
    "print(good.mean())"
   ]
  },
  {
   "cell_type": "code",
   "execution_count": 86,
   "metadata": {},
   "outputs": [
    {
     "data": {
      "text/plain": [
       "4332"
      ]
     },
     "execution_count": 86,
     "metadata": {},
     "output_type": "execute_result"
    }
   ],
   "source": [
    "good.sum()"
   ]
  },
  {
   "cell_type": "code",
   "execution_count": 88,
   "metadata": {},
   "outputs": [
    {
     "data": {
      "text/plain": [
       "135"
      ]
     },
     "execution_count": 88,
     "metadata": {},
     "output_type": "execute_result"
    }
   ],
   "source": [
    "# find the number of trunk diamter greater than 30 \n",
    "(ny_trees.diameter > 30).sum()"
   ]
  },
  {
   "cell_type": "code",
   "execution_count": 90,
   "metadata": {},
   "outputs": [
    {
     "data": {
      "text/plain": [
       "0.027005401080216044"
      ]
     },
     "execution_count": 90,
     "metadata": {},
     "output_type": "execute_result"
    }
   ],
   "source": [
    "# calculate the proportion of trunk diametr greater than 30 \n",
    "(ny_trees.diameter > 30).mean()"
   ]
  },
  {
   "cell_type": "markdown",
   "metadata": {},
   "source": [
    "**Review**\n",
    "- In this lesson you’ve learned the steps you can take to summarize and interpret summaries of nominal categorical and ordinal categorical variables.\n",
    "\n",
    "- For nominal categorical variables, there is no ordering to the categories. Because of this, we’re limited to using the mode to describe central tendency and there is no way to summarize the spread.\n",
    "\n",
    "- For ordinal categorical variables, there is an implied ordering to the categories. In Python, we can use pd.Categorical() to transform a variable to a categorical type. The Categorical type allows us to access a numeric value for each category by using .cat.codes. From there, we may perform operations on this variable as if it were a regular, numeric variable.\n",
    "\n",
    "- However, when calculating statistics for an ordinal categorical variable we should be mindful that some numeric statistics rely on the assumption of equal spacing between categories.\n",
    "\n",
    "- For ordinal categorical variables, median and mode can be used to summarize the central tendency, and the IQR (or any difference between percentiles) can be used to summarize the spread.\n",
    "\n",
    "- Certain summary statistics (e.g. frequencies and proportions), can be used for all categorical variables. You can create true/false columns and np.sum() and np.mean() to quickly summarize what proportion of your data meets certain criteria."
   ]
  },
  {
   "cell_type": "code",
   "execution_count": null,
   "metadata": {},
   "outputs": [],
   "source": []
  }
 ],
 "metadata": {
  "kernelspec": {
   "display_name": "Python 3",
   "language": "python",
   "name": "python3"
  },
  "language_info": {
   "codemirror_mode": {
    "name": "ipython",
    "version": 3
   },
   "file_extension": ".py",
   "mimetype": "text/x-python",
   "name": "python",
   "nbconvert_exporter": "python",
   "pygments_lexer": "ipython3",
   "version": "3.7.4"
  }
 },
 "nbformat": 4,
 "nbformat_minor": 2
}
